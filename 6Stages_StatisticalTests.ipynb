{
 "cells": [
  {
   "cell_type": "code",
   "execution_count": 8,
   "metadata": {},
   "outputs": [],
   "source": [
    "%matplotlib inline\n",
    "%config IPCompleter.greedy=True\n",
    "\n",
    "import copy\n",
    "import os\n",
    "import numpy as np\n",
    "import pandas as pd\n",
    "import matplotlib as mpl\n",
    "import matplotlib.pyplot as plt\n",
    "import seaborn as sns\n",
    "import math as math\n",
    "import scipy.stats as st\n",
    "import auxiliary_functions as aux\n",
    "from scipy.optimize import curve_fit\n",
    "\n",
    "\n",
    "pd.options.display.max_rows = 10\n",
    "\n",
    "# Run the script to load the data (the series and their segmentation) and to delete all segments with indeterminate stage or whose max frequency is below 85%\n",
    "from load_data import load_data\n",
    "data, seg_res = load_data()\n",
    "\n",
    "# Aglutinates the segments statistics of all the subjects, distinguishing them only by their groups.\n",
    "from aglutinates_statistics_6stages import aglutinates\n",
    "means, medians, variances, lengths, t_i, t_f, delta_t = aglutinates(data, seg_res)"
   ]
  },
  {
   "cell_type": "markdown",
   "metadata": {},
   "source": [
    "#### Compute the means, standard deviations and variances."
   ]
  },
  {
   "cell_type": "code",
   "execution_count": 9,
   "metadata": {},
   "outputs": [],
   "source": [
    "path = \"data/Measures_avg_std_var/\"\n",
    "\n",
    "series_titles = [\"SBP\", \"DBP\", \"BBI-P\", \"BBI-EKG\"]\n",
    "values_titles = [\"Mean\", \"Median\", \"Var\", \"Length\", \"T_i\", \"T_f\", \"D_t\"]\n",
    "groups_titles = [\"Hypertensive\", \"Normotensive\", \"Proband\"]\n",
    "measures = [means, medians, variances, lengths, t_i, t_f, delta_t]\n",
    "\n",
    "col = [\"0: Mean\", \"0: Var\", \"0: SD\", \"0: SE\",\n",
    "       \"1: Mean\", \"1: Var\", \"1: SD\", \"1: SE\",\n",
    "       \"2: Mean\", \"2: Var\", \"2: SD\", \"2: SE\",\n",
    "       \"3: Mean\", \"3: Var\", \"3: SD\", \"3: SE\",\n",
    "       \"4: Mean\", \"4: Var\", \"4: SD\", \"4: SE\",\n",
    "       \"REM: Mean\", \"REM: Var\", \"REM: SD\", \"REM: SE\"]\n",
    "\n",
    "vals = [[\"0: Mean\", \"0: Var\", \"0: SD\", \"0: SE\"],\n",
    "        [\"1: Mean\", \"1: Var\", \"1: SD\", \"1: SE\"],\n",
    "        [\"2: Mean\", \"2: Var\", \"2: SD\", \"2: SE\"],\n",
    "        [\"3: Mean\", \"3: Var\", \"3: SD\", \"3: SE\"],\n",
    "        [\"4: Mean\", \"4: Var\", \"4: SD\", \"4: SE\"],\n",
    "        [\"REM: Mean\", \"REM: Var\", \"REM: SD\", \"REM: SE\"]]\n",
    "\n",
    "for group in range(3):\n",
    "    for series in range(4):\n",
    "        values = pd.DataFrame(columns = col, index = values_titles)\n",
    "        \n",
    "        for x in range(6):\n",
    "            for y in range(7):\n",
    "                values[vals[x][0]][values_titles[y]] = measures[y][group][series][x].mean()\n",
    "                values[vals[x][1]][values_titles[y]] = measures[y][group][series][x].std()\n",
    "                values[vals[x][2]][values_titles[y]] = measures[y][group][series][x].var()\n",
    "                values[vals[x][3]][values_titles[y]] = st.sem(measures[y][group][series][x])\n",
    "                \n",
    "        values.to_csv(path+groups_titles[group]+\"/6 Stages/\"+series_titles[series]+\".csv\")\n",
    "        \n",
    "        \n"
   ]
  },
  {
   "cell_type": "markdown",
   "metadata": {},
   "source": [
    "##### Kruskal–Wallis one-way analysis of variance"
   ]
  },
  {
   "cell_type": "code",
   "execution_count": 10,
   "metadata": {},
   "outputs": [],
   "source": [
    "path = \"data/tests/kruskal-wallis/6 Stages/\"\n",
    "\n",
    "idx = [\"Mean\", \"Median\", \"Variance\", \"Length\", \"T_i\", \"T_f\", \"D_t\"]\n",
    "measures = [means, medians, variances, lengths, t_i, t_f, delta_t]\n",
    "series_titles = [\"SBP\", \"DBP\", \"BBI-P\", \"BBI-EKG\"]\n",
    "groups_titles = [\"Hypertensive\", \"Normotensive\", \"Proband\"]\n",
    "\n",
    "hypertensive_df = pd.DataFrame(columns = series_titles, index = idx)\n",
    "normotensive_df = pd.DataFrame(columns = series_titles, index = idx)\n",
    "proband_df      = pd.DataFrame(columns = series_titles, index = idx)\n",
    "\n",
    "groups  = [hypertensive_df, normotensive_df, proband_df]\n",
    "\n",
    "for g in range(3):\n",
    "    for s in range(4):\n",
    "        for m in range(len(measures)):\n",
    "            temp = measures[m][g][s]\n",
    "            groups[g][series_titles[s]][idx[m]] = st.kruskal(temp[0], temp[1], temp[2], temp[3], temp[4], temp[5])[1]\n",
    "            \n",
    "for i in range(3):\n",
    "    groups[i].to_csv(path+\"/\"+groups_titles[i]+\".csv\", decimal = \",\")"
   ]
  },
  {
   "cell_type": "markdown",
   "metadata": {},
   "source": [
    "##### Student t-test"
   ]
  },
  {
   "cell_type": "code",
   "execution_count": 11,
   "metadata": {},
   "outputs": [],
   "source": [
    "path = \"data/tests/t-test/6 Stages/\"\n",
    "\n",
    "stages  = [\"Vigil\", \"N1\", \"N2\", \"N3\", \"N4\", \"REM\"]\n",
    "groups_titles   = [\"Hypertensive\", \"Normotensive\", \"Proband\"]\n",
    "series_titles   = [\"SBP\", \"DBP\", \"BBI-P\", \"BBI-EKG\"]\n",
    "measures_titles = [\"mean\", \"median\", \"variance\", \"length\", \"T_i\", \"T_f\", \"D_t\", \"alpha\"]\n",
    "measures = [means, medians, variances, lengths, t_i, t_f, delta_t]\n",
    "\n",
    "\n",
    "# One table for group, series and parameter\n",
    "for g in range(3):\n",
    "    for s in range(4):\n",
    "        for m in range(7):\n",
    "            table = pd.DataFrame(columns = stages, index = stages)\n",
    "            val = measures[m][g][s]\n",
    "            \n",
    "            for x in range(6):\n",
    "                for y in range(6):\n",
    "                    table[stages[x]][stages[y]] = st.ttest_ind(val[x], val[y])[1]\n",
    "                    \n",
    "            table.to_csv(path+groups_titles[g]+\"/\"+series_titles[s]+\"/\"+measures_titles[m]+\".csv\", decimal = ',')"
   ]
  },
  {
   "cell_type": "markdown",
   "metadata": {},
   "source": [
    "##### KS Test"
   ]
  },
  {
   "cell_type": "code",
   "execution_count": 12,
   "metadata": {},
   "outputs": [],
   "source": [
    "path = \"data/tests/ks-test/6 Stages/\"\n",
    "\n",
    "stages  = [\"Vigil\", \"N1\", \"N2\", \"N3\", \"N4\", \"REM\"]\n",
    "groups_titles   = [\"Hypertensive\", \"Normotensive\", \"Proband\"]\n",
    "series_titles   = [\"SBP\", \"DBP\", \"BBI-P\", \"BBI-EKG\"]\n",
    "measures_titles = [\"mean\", \"median\", \"variance\", \"length\", \"T_i\", \"T_f\", \"D_t\", \"alpha\"]\n",
    "measures = [means, medians, variances, lengths, t_i, t_f, delta_t]\n",
    "\n",
    "\n",
    "# One table for group, series and parameter\n",
    "for g in range(3):\n",
    "    for s in range(4):\n",
    "        for m in range(7):\n",
    "            table = pd.DataFrame(columns = stages, index = stages)\n",
    "            val = measures[m][g][s]\n",
    "            \n",
    "            for x in range(6):\n",
    "                for y in range(6):\n",
    "                    table[stages[x]][stages[y]] = st.ks_2samp(val[x], val[y])[1]\n",
    "                    \n",
    "            table.to_csv(path+groups_titles[g]+\"/\"+series_titles[s]+\"/\"+measures_titles[m]+\".csv\", decimal = ',')"
   ]
  }
 ],
 "metadata": {
  "kernelspec": {
   "display_name": "Python 3",
   "language": "python",
   "name": "python3"
  },
  "language_info": {
   "codemirror_mode": {
    "name": "ipython",
    "version": 3
   },
   "file_extension": ".py",
   "mimetype": "text/x-python",
   "name": "python",
   "nbconvert_exporter": "python",
   "pygments_lexer": "ipython3",
   "version": "3.7.3"
  }
 },
 "nbformat": 4,
 "nbformat_minor": 2
}
